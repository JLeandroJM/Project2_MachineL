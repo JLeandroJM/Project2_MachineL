{
  "cells": [
    {
      "cell_type": "markdown",
      "metadata": {
        "id": "2w2iocqNYXL6"
      },
      "source": [
        "https://www.kaggle.com/competitions/project-2-classification/overview\n",
        "\n",
        "https://pyts.readthedocs.io/en/latest/modules/transformation.html\n",
        "\n",
        "https://tsfresh.readthedocs.io/en/latest/text/quick_start.html"
      ]
    },
    {
      "cell_type": "code",
      "execution_count": 1,
      "metadata": {
        "id": "m9IhWNR6YDBy"
      },
      "outputs": [],
      "source": [
        "import h5py\n",
        "import numpy as np"
      ]
    },
    {
      "cell_type": "code",
      "execution_count": 2,
      "metadata": {
        "colab": {
          "base_uri": "https://localhost:8080/"
        },
        "id": "FX9tvxVJZhER",
        "outputId": "bbc306dc-4044-4db6-a7ac-9b80a0990b8f"
      },
      "outputs": [
        {
          "name": "stdout",
          "output_type": "stream",
          "text": [
            "Keys: <KeysViewHDF5 ['body_acc_x', 'body_acc_y', 'body_acc_z', 'body_gyro_x', 'body_gyro_y', 'body_gyro_z', 'total_acc_x', 'total_acc_y', 'total_acc_z']>\n",
            "body_acc_x : <class 'h5py._hl.dataset.Dataset'>\n",
            "body_acc_y : <class 'h5py._hl.dataset.Dataset'>\n",
            "body_acc_z : <class 'h5py._hl.dataset.Dataset'>\n",
            "body_gyro_x : <class 'h5py._hl.dataset.Dataset'>\n",
            "body_gyro_y : <class 'h5py._hl.dataset.Dataset'>\n",
            "body_gyro_z : <class 'h5py._hl.dataset.Dataset'>\n",
            "total_acc_x : <class 'h5py._hl.dataset.Dataset'>\n",
            "total_acc_y : <class 'h5py._hl.dataset.Dataset'>\n",
            "total_acc_z : <class 'h5py._hl.dataset.Dataset'>\n"
          ]
        }
      ],
      "source": [
        "train = 'train.h5'\n",
        "test = 'test.h5'\n",
        "\n",
        "with h5py.File(test, \"r\") as f:\n",
        "  print(\"Keys: %s\" % f.keys())\n",
        "\n",
        "  dataset = {}\n",
        "  for key in list(f.keys()):\n",
        "    print(key, ':', type(f[key]))\n",
        "    data = list(f[key])\n",
        "    dataset[key] = f[key][()]"
      ]
    },
    {
      "cell_type": "code",
      "execution_count": 5,
      "metadata": {},
      "outputs": [
        {
          "name": "stdout",
          "output_type": "stream",
          "text": [
            "Clave: body_acc_x\n",
            "\n",
            "Clave: body_acc_y\n",
            "\n",
            "Clave: body_acc_z\n",
            "\n",
            "Clave: body_gyro_x\n",
            "\n",
            "Clave: body_gyro_y\n",
            "\n",
            "Clave: body_gyro_z\n",
            "\n",
            "Clave: total_acc_x\n",
            "\n",
            "Clave: total_acc_y\n",
            "\n",
            "Clave: total_acc_z\n",
            "\n"
          ]
        }
      ],
      "source": [
        "\n",
        "\n",
        "# Iterar sobre las llaves y valores del diccionario\n",
        "for key, value in dataset.items():\n",
        "    print(f\"Clave: {key}\")\n",
        "    \n",
        "    print()"
      ]
    },
    {
      "cell_type": "code",
      "execution_count": null,
      "metadata": {
        "colab": {
          "base_uri": "https://localhost:8080/"
        },
        "id": "6Jt70Lnqb7A2",
        "outputId": "efe92bd1-88d2-4255-bd63-c51e457d3ea8"
      },
      "outputs": [
        {
          "name": "stdout",
          "output_type": "stream",
          "text": [
            "(7352, 128)\n",
            "(7352, 128)\n",
            "(7352, 128)\n",
            "(7352,)\n"
          ]
        }
      ],
      "source": [
        "print(dataset['body_acc_x'].shape)\n",
        "print(dataset['body_gyro_x'].shape)\n",
        "print(dataset['total_acc_x'].shape)\n",
        "print(dataset['y'].shape)"
      ]
    },
    {
      "cell_type": "code",
      "execution_count": null,
      "metadata": {
        "id": "XWpuqGzfU8va"
      },
      "outputs": [],
      "source": [
        "from pyts.transformation import ShapeletTransform\n",
        "from pyts.datasets import load_gunpoint\n",
        "from sklearn.pipeline import make_pipeline\n",
        "from sklearn.svm import LinearSVC\n",
        "\n",
        "shapelet = ShapeletTransform(window_sizes=np.arange(10, 130, 3), random_state=42)\n",
        "svc = LinearSVC()\n",
        "clf = make_pipeline(shapelet, svc)\n",
        "clf.fit(dataset['body_acc_x'], dataset['y'])"
      ]
    }
  ],
  "metadata": {
    "colab": {
      "provenance": []
    },
    "kernelspec": {
      "display_name": "Python 3",
      "name": "python3"
    },
    "language_info": {
      "codemirror_mode": {
        "name": "ipython",
        "version": 3
      },
      "file_extension": ".py",
      "mimetype": "text/x-python",
      "name": "python",
      "nbconvert_exporter": "python",
      "pygments_lexer": "ipython3",
      "version": "3.11.0"
    }
  },
  "nbformat": 4,
  "nbformat_minor": 0
}
